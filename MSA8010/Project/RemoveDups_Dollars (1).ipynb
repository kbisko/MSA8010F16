{
 "cells": [
  {
   "cell_type": "markdown",
   "metadata": {},
   "source": [
    "The following python code was the first step towards obtaining a cleaned data set. Three variables were dropped from the data set first: gross, budget, and plot_keywords. With movies from 66 different countries included in the set, the monetary values were not in one uniform currency, but instead listed according to the currency of the respective country where a particular movie was made. Converting currencies for over 60 countries spanning 100 years would be too time-consuming, resulting in the decision to drop budget and gross from the data set. The column plot_keywords was also dropped because the variance matched closely with movie title, meaning there was minimal significance for that variable. Finally, duplicates were dropped to obtain version 2 of the data set, movie_v2.csv."
   ]
  },
  {
   "cell_type": "code",
   "execution_count": 1,
   "metadata": {
    "collapsed": true
   },
   "outputs": [],
   "source": [
    "import pandas as pd\n",
    "import numpy as np\n",
    "import math as math\n",
    "## retrieve original data set\n",
    "movie=pd.read_table('/home/data/MSA8010/msa8010f16t02/movies.csv', sep=',')"
   ]
  },
  {
   "cell_type": "code",
   "execution_count": 17,
   "metadata": {
    "collapsed": false
   },
   "outputs": [
    {
     "data": {
      "text/plain": [
       "{'actor_1_facebook_likes',\n",
       " 'actor_1_name',\n",
       " 'actor_2_facebook_likes',\n",
       " 'actor_2_name',\n",
       " 'actor_3_facebook_likes',\n",
       " 'actor_3_name',\n",
       " 'aspect_ratio',\n",
       " 'cast_total_facebook_likes',\n",
       " 'color',\n",
       " 'content_rating',\n",
       " 'country',\n",
       " 'director_facebook_likes',\n",
       " 'director_name',\n",
       " 'duration',\n",
       " 'facenumber_in_poster',\n",
       " 'genres',\n",
       " 'imdb_score',\n",
       " 'language',\n",
       " 'movie_facebook_likes',\n",
       " 'movie_imdb_link',\n",
       " 'movie_title',\n",
       " 'num_critic_for_reviews',\n",
       " 'num_user_for_reviews',\n",
       " 'num_voted_users',\n",
       " 'title_year'}"
      ]
     },
     "execution_count": 17,
     "metadata": {},
     "output_type": "execute_result"
    }
   ],
   "source": [
    "## instantiate all features to be used; exclude gross, budget, and plot_keywords\n",
    "all_features = set(movie.columns)-set(['gross'])-set(['budget'])-set(['plot_keywords'])\n",
    "all_features"
   ]
  },
  {
   "cell_type": "code",
   "execution_count": 30,
   "metadata": {
    "collapsed": false
   },
   "outputs": [],
   "source": [
    "## remove any duplicates\n",
    "titles=movie[['movie_title','country']].drop_duplicates()\n",
    "\n",
    "## join data frames, then drop columns gross, plot_keywords, and budget\n",
    "movie2=pd.merge(movie, titles, on=['movie_title','country'])\n",
    "movie3=movie2.drop(['gross','plot_keywords','budget'],1)\n",
    "\n",
    "## updated data set in file movie_v2.csv\n",
    "movie3.to_csv('movie_v2.csv', sep=',')"
   ]
  }
 ],
 "metadata": {
  "kernelspec": {
   "display_name": "Python 3",
   "language": "python",
   "name": "python3"
  },
  "language_info": {
   "codemirror_mode": {
    "name": "ipython",
    "version": 3
   },
   "file_extension": ".py",
   "mimetype": "text/x-python",
   "name": "python",
   "nbconvert_exporter": "python",
   "pygments_lexer": "ipython3",
   "version": "3.4.3"
  }
 },
 "nbformat": 4,
 "nbformat_minor": 0
}
