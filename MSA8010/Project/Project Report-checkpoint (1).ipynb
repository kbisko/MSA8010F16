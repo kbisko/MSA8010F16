{
 "cells": [
  {
   "cell_type": "code",
   "execution_count": null,
   "metadata": {
    "collapsed": true
   },
   "outputs": [],
   "source": []
  },
  {
   "cell_type": "markdown",
   "metadata": {},
   "source": [
    "The purpose of this project initially was to be able to predict the IMDb score rating that a movie would receive. However, with the various models that can potentially be implemented, the objective shifted to using multiple models, both regression and classification ones, to see which models could generate the best predictions consistently. A total of five models were used: three regression models (linear regression, regression tree, and neural net) and two classification models (logistic regression and random forest). The regression models were used to predict the actual IMDb number score of a particular movie, while the classification models predicted whether the movie would be given a good or bad score. "
   ]
  },
  {
   "cell_type": "markdown",
   "metadata": {},
   "source": [
    "DATA CLEANING SECTION:"
   ]
  },
  {
   "cell_type": "markdown",
   "metadata": {},
   "source": [
    "CORRELATION MATRIX: code & explanation"
   ]
  },
  {
   "cell_type": "markdown",
   "metadata": {},
   "source": [
    "## Linear Regression"
   ]
  },
  {
   "cell_type": "code",
   "execution_count": null,
   "metadata": {
    "collapsed": true
   },
   "outputs": [],
   "source": []
  },
  {
   "cell_type": "code",
   "execution_count": null,
   "metadata": {
    "collapsed": true
   },
   "outputs": [],
   "source": []
  },
  {
   "cell_type": "markdown",
   "metadata": {},
   "source": [
    "## Regression Tree"
   ]
  },
  {
   "cell_type": "markdown",
   "metadata": {
    "collapsed": true
   },
   "source": [
    "The codes below plots the histogram of simulated (fitted) IMDB Scores vs Test IMDB Scores, and then generates the associated Regression Tree. Before we begin, we need to check if the normalized file named 'movie_v4.csv' has its first column named ‘num’ and upload it to the cluster."
   ]
  },
  {
   "cell_type": "code",
   "execution_count": null,
   "metadata": {
    "collapsed": true
   },
   "outputs": [],
   "source": [
    "### Setup for Regression Tree\n",
    "import pandas as pd\n",
    "import numpy as np\n",
    "import matplotlib.pyplot as plt\n",
    "from sklearn.tree import DecisionTreeRegressor\n",
    "from sklearn.tree import DecisionTreeClassifier"
   ]
  },
  {
   "cell_type": "code",
   "execution_count": null,
   "metadata": {
    "collapsed": true
   },
   "outputs": [],
   "source": [
    "mov = pd.read_csv('movie_v4.csv',encoding='iso-8859-15')"
   ]
  },
  {
   "cell_type": "code",
   "execution_count": null,
   "metadata": {
    "collapsed": true
   },
   "outputs": [],
   "source": [
    "xvar = set(mov.columns) -set(['num']) - set(['movie_title']) - set(['movie_imdb_link']) - set(['imdb_score'])"
   ]
  },
  {
   "cell_type": "code",
   "execution_count": null,
   "metadata": {
    "collapsed": true
   },
   "outputs": [],
   "source": [
    "y = mov['imdb_score']"
   ]
  },
  {
   "cell_type": "code",
   "execution_count": null,
   "metadata": {
    "collapsed": true
   },
   "outputs": [],
   "source": [
    "x = mov[list(xvar)].as_matrix()\n",
    "xfb = mov[list(fb)].as_matrix()\n",
    "xrev = mov[list(review)].as_matrix()"
   ]
  },
  {
   "cell_type": "code",
   "execution_count": null,
   "metadata": {
    "collapsed": true
   },
   "outputs": [],
   "source": [
    "y2 = y.as_matrix()\n",
    "### End of setup for Regression Tree"
   ]
  },
  {
   "cell_type": "code",
   "execution_count": null,
   "metadata": {
    "collapsed": true
   },
   "outputs": [],
   "source": [
    "### Scikit-learn with seed = 99\n",
    "from sklearn.model_selection import train_test_split\n",
    "x_train, x_test, y2_train, y2_test = train_test_split(x, y2, test_size=.4, random_state=99)\n",
    "### End of Scikit"
   ]
  },
  {
   "cell_type": "code",
   "execution_count": null,
   "metadata": {
    "collapsed": true
   },
   "outputs": [],
   "source": [
    "### R2 values for Training set and Test set (Keep running until R2 value for Test set  = 0.361350)\n",
    "regr = DecisionTreeRegressor(max_depth=5)\n",
    "regr.fit(x_train,y2_train)"
   ]
  },
  {
   "cell_type": "code",
   "execution_count": null,
   "metadata": {
    "collapsed": true
   },
   "outputs": [],
   "source": [
    "score_train = regr.score(x_train, y2_train)\n",
    "score_test = regr.score(x_test, y2_test)\n",
    "print('Ratio of R-Squared value for:\\n\\tTraining-set:\\t%f\\n\\tTest-set:\\t%f'%(score_train, score_test))\n",
    "### End of R2 values"
   ]
  },
  {
   "cell_type": "code",
   "execution_count": null,
   "metadata": {
    "collapsed": true
   },
   "outputs": [],
   "source": [
    "# Generating simulated IMDB Scores\n",
    "ŷ_all= regr.predict(x_test)\n",
    "# End of generating simulated IMDB Scores"
   ]
  },
  {
   "cell_type": "code",
   "execution_count": null,
   "metadata": {
    "collapsed": true
   },
   "outputs": [],
   "source": [
    "# Begin of Plotting histograms of fitted IMDB Scores  and IMDB Scores\n",
    "%matplotlib inline\n",
    "fig = plt.figure(figsize=(10,8))"
   ]
  },
  {
   "cell_type": "code",
   "execution_count": null,
   "metadata": {
    "collapsed": true
   },
   "outputs": [],
   "source": [
    "plt.hist(y2_test, label ='imdb_score_test')\n",
    "plt.hist(ŷ_all, alpha=0.75, label = 'DecisionTreeRegressor')"
   ]
  },
  {
   "cell_type": "code",
   "execution_count": null,
   "metadata": {
    "collapsed": true
   },
   "outputs": [],
   "source": [
    "plt.legend(loc='upper left')\n",
    "fig.suptitle('Fitted Values bs Test IMDB Scores', fontsize=12)\n",
    "fig.savefig('DecisionTreeRegressor.png')\n",
    "# End of Plotting histograms of fitted IMDB Scores  and IMDB Scores"
   ]
  },
  {
   "cell_type": "code",
   "execution_count": null,
   "metadata": {
    "collapsed": true
   },
   "outputs": [],
   "source": [
    "# Beginning of Regression Tree\n",
    "import sklearn.tree\n",
    "import pydot_ng as pdot\n",
    "dot_data = sklearn.tree.export_graphviz(regr, out_file=None, feature_names = list(xvar), class_names=['no', 'yes'])\n",
    "graph = pdot.graph_from_dot_data(dot_data)"
   ]
  },
  {
   "cell_type": "code",
   "execution_count": null,
   "metadata": {
    "collapsed": true
   },
   "outputs": [],
   "source": [
    "from IPython.display import HTML\n",
    "HTML(str(graph.create_svg().decode('utf-8')))\n",
    "# End of Regression Tree"
   ]
  },
  {
   "cell_type": "markdown",
   "metadata": {
    "collapsed": true
   },
   "source": []
  },
  {
   "cell_type": "markdown",
   "metadata": {},
   "source": [
    "## Neural Net"
   ]
  },
  {
   "cell_type": "markdown",
   "metadata": {
    "collapsed": true
   },
   "source": [
    "The final regression model used was neural nets. All of the necessary functions and packages were loadded along with the data. "
   ]
  },
  {
   "cell_type": "code",
   "execution_count": null,
   "metadata": {
    "collapsed": true
   },
   "outputs": [],
   "source": [
    "import numpy as np\n",
    "import pandas as pd\n",
    "import matplotlib.pyplot as plt\n",
    "from sklearn.neural_network import MLPRegressor\n",
    "from sklearn.model_selection import train_test_split\n",
    "from keras.models import Sequential\n",
    "from keras.layers import Dense\n",
    "from keras.wrappers.scikit_learn import KerasRegressor\n",
    "from sklearn.model_selection import cross_val_score\n",
    "from sklearn.model_selection import KFold\n",
    "from sklearn.preprocessing import StandardScaler\n",
    "from sklearn.pipeline import Pipeline"
   ]
  },
  {
   "cell_type": "code",
   "execution_count": null,
   "metadata": {
    "collapsed": true
   },
   "outputs": [],
   "source": [
    "df = pd.read_table('/home/data/MSA8010/msa8010f16t02/movie_v4.csv', sep=',')"
   ]
  },
  {
   "cell_type": "markdown",
   "metadata": {},
   "source": [
    "Different feature sets were tested. The below was found to be the best. "
   ]
  },
  {
   "cell_type": "code",
   "execution_count": null,
   "metadata": {
    "collapsed": true
   },
   "outputs": [],
   "source": [
    "#all_features = set(df.columns)-set(['imdb_score'])-set(['movie_imdb_link'])-set(['Unnamed: 0'])\n",
    "#all_features = set(df.columns)-set(['imdb_score'])-set(['movie_imdb_link'])-set(['Unnamed: 0'])-set(['facenumber_in_poster'])-set(['actor_3_facebook_likes'])-set(['actor_2_facebook_likes'])-set(['actor_1_facebook_likes'])-set(['color'])-set(['aspect_ratio'])-set(['content_rating'])-set(['cast_total_facebook_likes'])-set(['title_year'])-set(['country'])-set(['movie_facebook_likes'])\n",
    "all_features = set(df.columns)-set(['imdb_score'])-set(['movie_imdb_link'])-set(['Unnamed: 0'])-set(['facenumber_in_poster'])-set(['actor_3_facebook_likes'])-set(['actor_2_facebook_likes'])-set(['actor_1_facebook_likes'])-set(['color'])-set(['aspect_ratio'])-set(['content_rating'])\n",
    "all_features"
   ]
  },
  {
   "cell_type": "code",
   "execution_count": null,
   "metadata": {
    "collapsed": true
   },
   "outputs": [],
   "source": []
  },
  {
   "cell_type": "code",
   "execution_count": null,
   "metadata": {
    "collapsed": true
   },
   "outputs": [],
   "source": []
  },
  {
   "cell_type": "code",
   "execution_count": null,
   "metadata": {
    "collapsed": true
   },
   "outputs": [],
   "source": []
  },
  {
   "cell_type": "code",
   "execution_count": null,
   "metadata": {
    "collapsed": true
   },
   "outputs": [],
   "source": []
  },
  {
   "cell_type": "code",
   "execution_count": null,
   "metadata": {
    "collapsed": true
   },
   "outputs": [],
   "source": []
  },
  {
   "cell_type": "code",
   "execution_count": null,
   "metadata": {
    "collapsed": true
   },
   "outputs": [],
   "source": []
  },
  {
   "cell_type": "code",
   "execution_count": null,
   "metadata": {
    "collapsed": true
   },
   "outputs": [],
   "source": []
  },
  {
   "cell_type": "markdown",
   "metadata": {},
   "source": [
    "## LOGISTIC REGRESSION"
   ]
  },
  {
   "cell_type": "markdown",
   "metadata": {},
   "source": [
    "Logistic Regression was the first classification model used for predicting the IMDb score of a movie. The code below is the first method used in python to obtain a summary of the regression output. From the movie data set on the cluster, the target feature was established as imdb_score. Of all the scores given in the data set, the average was found and used to separate the y-variable into two categories: if the score was greater than or equal to the mean, it would be labeled as \"1\" for good; if the score was below the mean, it would be labeled as \"0\" to represent bad. Then, the full data set was separated into a training set composed of 60% of the data and a testing set composed of the remaining 40% of the data. The training data was used to fit the regression model, and the summary output was generated. Predicted values were also calculated which, when compared with testing data values, can be used to find the error percentage of the model. The code is presented in the order of implementation:"
   ]
  },
  {
   "cell_type": "code",
   "execution_count": 1,
   "metadata": {
    "collapsed": true
   },
   "outputs": [],
   "source": [
    "import pandas as pd\n",
    "import numpy as np\n",
    "import matplotlib.pyplot as plt\n",
    "import statsmodels.api as sm\n",
    "import pylab as pl\n",
    "import patsy\n",
    "from sklearn import linear_model, decomposition, datasets"
   ]
  },
  {
   "cell_type": "code",
   "execution_count": 2,
   "metadata": {
    "collapsed": true
   },
   "outputs": [],
   "source": [
    "## retrieve file and instantiate data set\n",
    "movies = pd.read_csv('/home/data/MSA8010/msa8010f16t02/movie_v4.csv')"
   ]
  },
  {
   "cell_type": "code",
   "execution_count": 3,
   "metadata": {
    "collapsed": true
   },
   "outputs": [],
   "source": [
    "## find average IMDb score\n",
    "avg = movies['imdb_score'].mean()"
   ]
  },
  {
   "cell_type": "code",
   "execution_count": 4,
   "metadata": {
    "collapsed": true
   },
   "outputs": [],
   "source": [
    "## categorize imdb scores as either 0 or 1\n",
    "movies['imdb_score'] = (movies['imdb_score'] > movies['imdb_score'].mean()).astype(int)"
   ]
  },
  {
   "cell_type": "code",
   "execution_count": 5,
   "metadata": {
    "collapsed": true
   },
   "outputs": [],
   "source": [
    "## split data into 60% training and 40% testing\n",
    "training_rows = movies.sample(frac=0.6)\n",
    "testing_rows = movies.loc[~movies.index.isin(training_rows.index)]"
   ]
  },
  {
   "cell_type": "code",
   "execution_count": 6,
   "metadata": {
    "collapsed": true
   },
   "outputs": [],
   "source": [
    "## set y2 and X2\n",
    "y2, X2 = patsy.dmatrices('imdb_score ~ color + director_name + num_critic_for_reviews + duration + director_facebook_likes + actor_3_facebook_likes + actor_2_name + actor_1_facebook_likes + genres + actor_1_name + movie_title + num_voted_users + cast_total_facebook_likes + actor_3_name + facenumber_in_poster + movie_imdb_link + num_user_for_reviews + language + country + content_rating + title_year + actor_2_facebook_likes + aspect_ratio + movie_facebook_likes', training_rows, return_type = 'dataframe')"
   ]
  },
  {
   "cell_type": "code",
   "execution_count": 7,
   "metadata": {
    "collapsed": false
   },
   "outputs": [
    {
     "name": "stdout",
     "output_type": "stream",
     "text": [
      "Optimization terminated successfully.\n",
      "         Current function value: 0.469374\n",
      "         Iterations 8\n"
     ]
    }
   ],
   "source": [
    "## fit logistic regression model to binary data\n",
    "logit2 = sm.Logit(y2, X2)\n",
    "result = logit2.fit()"
   ]
  },
  {
   "cell_type": "code",
   "execution_count": 8,
   "metadata": {
    "collapsed": false
   },
   "outputs": [
    {
     "data": {
      "text/html": [
       "<table class=\"simpletable\">\n",
       "<caption>Logit Regression Results</caption>\n",
       "<tr>\n",
       "  <th>Dep. Variable:</th>    <td>imdb_score</td>    <th>  No. Observations:  </th>   <td>  2254</td>  \n",
       "</tr>\n",
       "<tr>\n",
       "  <th>Model:</th>               <td>Logit</td>      <th>  Df Residuals:      </th>   <td>  2229</td>  \n",
       "</tr>\n",
       "<tr>\n",
       "  <th>Method:</th>               <td>MLE</td>       <th>  Df Model:          </th>   <td>    24</td>  \n",
       "</tr>\n",
       "<tr>\n",
       "  <th>Date:</th>          <td>Thu, 08 Dec 2016</td> <th>  Pseudo R-squ.:     </th>   <td>0.3171</td>  \n",
       "</tr>\n",
       "<tr>\n",
       "  <th>Time:</th>              <td>00:26:08</td>     <th>  Log-Likelihood:    </th>  <td> -1058.0</td> \n",
       "</tr>\n",
       "<tr>\n",
       "  <th>converged:</th>           <td>True</td>       <th>  LL-Null:           </th>  <td> -1549.3</td> \n",
       "</tr>\n",
       "<tr>\n",
       "  <th> </th>                      <td> </td>        <th>  LLR p-value:       </th> <td>4.130e-192</td>\n",
       "</tr>\n",
       "</table>\n",
       "<table class=\"simpletable\">\n",
       "<tr>\n",
       "              <td></td>                 <th>coef</th>     <th>std err</th>      <th>z</th>      <th>P>|z|</th> <th>[95.0% Conf. Int.]</th> \n",
       "</tr>\n",
       "<tr>\n",
       "  <th>Intercept</th>                 <td>   35.1758</td> <td>   15.553</td> <td>    2.262</td> <td> 0.024</td> <td>    4.692    65.660</td>\n",
       "</tr>\n",
       "<tr>\n",
       "  <th>color</th>                     <td>    0.6736</td> <td>    0.335</td> <td>    2.012</td> <td> 0.044</td> <td>    0.017     1.330</td>\n",
       "</tr>\n",
       "<tr>\n",
       "  <th>director_name</th>             <td>   -0.0006</td> <td>    0.000</td> <td>   -3.150</td> <td> 0.002</td> <td>   -0.001    -0.000</td>\n",
       "</tr>\n",
       "<tr>\n",
       "  <th>num_critic_for_reviews</th>    <td>    0.0024</td> <td>    0.001</td> <td>    2.490</td> <td> 0.013</td> <td>    0.001     0.004</td>\n",
       "</tr>\n",
       "<tr>\n",
       "  <th>duration</th>                  <td>    0.0404</td> <td>    0.004</td> <td>   10.547</td> <td> 0.000</td> <td>    0.033     0.048</td>\n",
       "</tr>\n",
       "<tr>\n",
       "  <th>director_facebook_likes</th>   <td> 4.277e-05</td> <td>  2.4e-05</td> <td>    1.784</td> <td> 0.074</td> <td>-4.23e-06  8.98e-05</td>\n",
       "</tr>\n",
       "<tr>\n",
       "  <th>actor_3_facebook_likes</th>    <td>    0.0002</td> <td> 9.11e-05</td> <td>    2.565</td> <td> 0.010</td> <td> 5.51e-05     0.000</td>\n",
       "</tr>\n",
       "<tr>\n",
       "  <th>actor_2_name</th>              <td>   -0.0003</td> <td>    0.000</td> <td>   -2.158</td> <td> 0.031</td> <td>   -0.001  -2.7e-05</td>\n",
       "</tr>\n",
       "<tr>\n",
       "  <th>actor_1_facebook_likes</th>    <td>    0.0002</td> <td>  5.4e-05</td> <td>    4.574</td> <td> 0.000</td> <td>    0.000     0.000</td>\n",
       "</tr>\n",
       "<tr>\n",
       "  <th>genres</th>                    <td>    0.0002</td> <td>    0.000</td> <td>    0.556</td> <td> 0.579</td> <td>   -0.000     0.001</td>\n",
       "</tr>\n",
       "<tr>\n",
       "  <th>actor_1_name</th>              <td>   -0.0004</td> <td>    0.000</td> <td>   -2.036</td> <td> 0.042</td> <td>   -0.001 -1.45e-05</td>\n",
       "</tr>\n",
       "<tr>\n",
       "  <th>movie_title</th>               <td>   -0.2289</td> <td>    0.195</td> <td>   -1.171</td> <td> 0.241</td> <td>   -0.612     0.154</td>\n",
       "</tr>\n",
       "<tr>\n",
       "  <th>num_voted_users</th>           <td> 2.017e-05</td> <td>  1.6e-06</td> <td>   12.567</td> <td> 0.000</td> <td>  1.7e-05  2.33e-05</td>\n",
       "</tr>\n",
       "<tr>\n",
       "  <th>cast_total_facebook_likes</th> <td>   -0.0002</td> <td> 5.39e-05</td> <td>   -4.566</td> <td> 0.000</td> <td>   -0.000    -0.000</td>\n",
       "</tr>\n",
       "<tr>\n",
       "  <th>actor_3_name</th>              <td>-1.526e-05</td> <td>    0.000</td> <td>   -0.125</td> <td> 0.901</td> <td>   -0.000     0.000</td>\n",
       "</tr>\n",
       "<tr>\n",
       "  <th>facenumber_in_poster</th>      <td>   -0.0890</td> <td>    0.027</td> <td>   -3.343</td> <td> 0.001</td> <td>   -0.141    -0.037</td>\n",
       "</tr>\n",
       "<tr>\n",
       "  <th>movie_imdb_link</th>           <td>    0.2301</td> <td>    0.195</td> <td>    1.178</td> <td> 0.239</td> <td>   -0.153     0.613</td>\n",
       "</tr>\n",
       "<tr>\n",
       "  <th>num_user_for_reviews</th>      <td>   -0.0024</td> <td>    0.000</td> <td>   -8.070</td> <td> 0.000</td> <td>   -0.003    -0.002</td>\n",
       "</tr>\n",
       "<tr>\n",
       "  <th>language</th>                  <td>    0.1794</td> <td>    0.055</td> <td>    3.277</td> <td> 0.001</td> <td>    0.072     0.287</td>\n",
       "</tr>\n",
       "<tr>\n",
       "  <th>country</th>                   <td>    0.0062</td> <td>    0.016</td> <td>    0.400</td> <td> 0.689</td> <td>   -0.024     0.037</td>\n",
       "</tr>\n",
       "<tr>\n",
       "  <th>content_rating</th>            <td>    0.0565</td> <td>    0.037</td> <td>    1.513</td> <td> 0.130</td> <td>   -0.017     0.130</td>\n",
       "</tr>\n",
       "<tr>\n",
       "  <th>title_year</th>                <td>   -0.0207</td> <td>    0.008</td> <td>   -2.663</td> <td> 0.008</td> <td>   -0.036    -0.005</td>\n",
       "</tr>\n",
       "<tr>\n",
       "  <th>actor_2_facebook_likes</th>    <td>    0.0003</td> <td> 5.94e-05</td> <td>    4.356</td> <td> 0.000</td> <td>    0.000     0.000</td>\n",
       "</tr>\n",
       "<tr>\n",
       "  <th>aspect_ratio</th>              <td>   -0.2222</td> <td>    0.223</td> <td>   -0.999</td> <td> 0.318</td> <td>   -0.658     0.214</td>\n",
       "</tr>\n",
       "<tr>\n",
       "  <th>movie_facebook_likes</th>      <td> 1.114e-06</td> <td> 5.09e-06</td> <td>    0.219</td> <td> 0.827</td> <td>-8.86e-06  1.11e-05</td>\n",
       "</tr>\n",
       "</table>"
      ],
      "text/plain": [
       "<class 'statsmodels.iolib.summary.Summary'>\n",
       "\"\"\"\n",
       "                           Logit Regression Results                           \n",
       "==============================================================================\n",
       "Dep. Variable:             imdb_score   No. Observations:                 2254\n",
       "Model:                          Logit   Df Residuals:                     2229\n",
       "Method:                           MLE   Df Model:                           24\n",
       "Date:                Thu, 08 Dec 2016   Pseudo R-squ.:                  0.3171\n",
       "Time:                        00:26:08   Log-Likelihood:                -1058.0\n",
       "converged:                       True   LL-Null:                       -1549.3\n",
       "                                        LLR p-value:                4.130e-192\n",
       "=============================================================================================\n",
       "                                coef    std err          z      P>|z|      [95.0% Conf. Int.]\n",
       "---------------------------------------------------------------------------------------------\n",
       "Intercept                    35.1758     15.553      2.262      0.024         4.692    65.660\n",
       "color                         0.6736      0.335      2.012      0.044         0.017     1.330\n",
       "director_name                -0.0006      0.000     -3.150      0.002        -0.001    -0.000\n",
       "num_critic_for_reviews        0.0024      0.001      2.490      0.013         0.001     0.004\n",
       "duration                      0.0404      0.004     10.547      0.000         0.033     0.048\n",
       "director_facebook_likes    4.277e-05    2.4e-05      1.784      0.074     -4.23e-06  8.98e-05\n",
       "actor_3_facebook_likes        0.0002   9.11e-05      2.565      0.010      5.51e-05     0.000\n",
       "actor_2_name                 -0.0003      0.000     -2.158      0.031        -0.001  -2.7e-05\n",
       "actor_1_facebook_likes        0.0002    5.4e-05      4.574      0.000         0.000     0.000\n",
       "genres                        0.0002      0.000      0.556      0.579        -0.000     0.001\n",
       "actor_1_name                 -0.0004      0.000     -2.036      0.042        -0.001 -1.45e-05\n",
       "movie_title                  -0.2289      0.195     -1.171      0.241        -0.612     0.154\n",
       "num_voted_users            2.017e-05    1.6e-06     12.567      0.000       1.7e-05  2.33e-05\n",
       "cast_total_facebook_likes    -0.0002   5.39e-05     -4.566      0.000        -0.000    -0.000\n",
       "actor_3_name              -1.526e-05      0.000     -0.125      0.901        -0.000     0.000\n",
       "facenumber_in_poster         -0.0890      0.027     -3.343      0.001        -0.141    -0.037\n",
       "movie_imdb_link               0.2301      0.195      1.178      0.239        -0.153     0.613\n",
       "num_user_for_reviews         -0.0024      0.000     -8.070      0.000        -0.003    -0.002\n",
       "language                      0.1794      0.055      3.277      0.001         0.072     0.287\n",
       "country                       0.0062      0.016      0.400      0.689        -0.024     0.037\n",
       "content_rating                0.0565      0.037      1.513      0.130        -0.017     0.130\n",
       "title_year                   -0.0207      0.008     -2.663      0.008        -0.036    -0.005\n",
       "actor_2_facebook_likes        0.0003   5.94e-05      4.356      0.000         0.000     0.000\n",
       "aspect_ratio                 -0.2222      0.223     -0.999      0.318        -0.658     0.214\n",
       "movie_facebook_likes       1.114e-06   5.09e-06      0.219      0.827     -8.86e-06  1.11e-05\n",
       "=============================================================================================\n",
       "\"\"\""
      ]
     },
     "execution_count": 8,
     "metadata": {},
     "output_type": "execute_result"
    }
   ],
   "source": [
    "## get summary output of logit regression\n",
    "result.summary()"
   ]
  },
  {
   "cell_type": "code",
   "execution_count": 9,
   "metadata": {
    "collapsed": false
   },
   "outputs": [
    {
     "data": {
      "text/plain": [
       "array([ 0.,  0.,  0.,  1.,  0.,  1.,  1.,  1.,  0.])"
      ]
     },
     "execution_count": 9,
     "metadata": {},
     "output_type": "execute_result"
    }
   ],
   "source": [
    "#predicted_values \n",
    "predicted_values = result.predict(X2)\n",
    "predicted_values2 = predicted_values.round()\n",
    "predicted_values2[1:10]"
   ]
  },
  {
   "cell_type": "markdown",
   "metadata": {
    "collapsed": true
   },
   "source": []
  },
  {
   "cell_type": "markdown",
   "metadata": {
    "collapsed": true
   },
   "source": [
    "In the following code, scikit-learn was used as an alternative method of python code for logistic regression. All the x-variables were split into numerical and categorical features, and the mean was found for the y-variable again for the purpose of separating the values into good vs. bad with \"1\" or \"0\", respectively. The data was again split with 60% for training and 40% for testing. The ratio was fit to the data, then the ratio of correctly classified samples was calculated for both training data (0.767421) and testing data (0.748503). Predicted values using testing data were found, and using a function to compare them with score data yielded a binary confusion matrix with values for true positives, true negatives, false positives, and false negatives. A classification report was generated to see the precision, recall, F1-score, and support of the model. Finally, a function was written to create a visual normalized confusion matrix with rates in the quadrants. "
   ]
  },
  {
   "cell_type": "code",
   "execution_count": 6,
   "metadata": {
    "collapsed": true
   },
   "outputs": [],
   "source": [
    "## separate x features into numerical, categorical, and all features (not imdb_score)\n",
    "all_features = set(movies.columns)-set(['imdb_score'])\n",
    "num_features = set(movies.describe().columns)\n",
    "cat_features = all_features-num_features"
   ]
  },
  {
   "cell_type": "code",
   "execution_count": 11,
   "metadata": {
    "collapsed": true
   },
   "outputs": [],
   "source": [
    "## categorize imdb_score values to be 0 or 1\n",
    "movies['imdb_score'] = (movies['imdb_score'] > movies['imdb_score'].mean()).astype(int)"
   ]
  },
  {
   "cell_type": "code",
   "execution_count": 12,
   "metadata": {
    "collapsed": false
   },
   "outputs": [
    {
     "data": {
      "text/plain": [
       "(array([[  0.0e+00,   1.0e+03,   0.0e+00, ...,   0.0e+00,   0.0e+00,\n",
       "           8.9e+05],\n",
       "        [  5.6e+02,   4.0e+04,   1.0e+00, ...,   1.0e+00,   1.0e+00,\n",
       "           4.7e+05],\n",
       "        [  0.0e+00,   1.1e+04,   2.0e+00, ...,   2.0e+00,   2.0e+00,\n",
       "           2.8e+05],\n",
       "        ..., \n",
       "        [  2.9e+02,   2.9e+02,   1.7e+03, ...,   5.0e+03,   2.6e+03,\n",
       "           7.3e+04],\n",
       "        [  0.0e+00,   1.2e+02,   4.0e+02, ...,   5.0e+03,   2.6e+03,\n",
       "           5.2e+04],\n",
       "        [  1.6e+01,   8.6e+01,   1.6e+03, ...,   5.0e+03,   2.6e+03,\n",
       "           4.3e+03]]), array([ 7.9,  7.1,  6.8, ...,  7. ,  6.9,  6.6]))"
      ]
     },
     "execution_count": 12,
     "metadata": {},
     "output_type": "execute_result"
    }
   ],
   "source": [
    "X = movies[list(all_features)].as_matrix()\n",
    "y = movies.imdb_score.as_matrix()\n",
    "X, y"
   ]
  },
  {
   "cell_type": "code",
   "execution_count": 13,
   "metadata": {
    "collapsed": true
   },
   "outputs": [],
   "source": [
    "## split data into 60% training and 40% testing, as well as X and y\n",
    "from sklearn.model_selection import train_test_split\n",
    "X_train, X_test, y_train, y_test = train_test_split(X, y, test_size=.4, random_state=42)"
   ]
  },
  {
   "cell_type": "code",
   "execution_count": 14,
   "metadata": {
    "collapsed": true
   },
   "outputs": [],
   "source": [
    "from sklearn import datasets\n",
    "from sklearn import metrics\n",
    "from sklearn.linear_model import LogisticRegression"
   ]
  },
  {
   "cell_type": "code",
   "execution_count": 15,
   "metadata": {
    "collapsed": false
   },
   "outputs": [
    {
     "data": {
      "text/plain": [
       "LogisticRegression(C=1.0, class_weight=None, dual=False, fit_intercept=True,\n",
       "          intercept_scaling=1, max_iter=100, multi_class='ovr', n_jobs=1,\n",
       "          penalty='l2', random_state=None, solver='liblinear', tol=0.0001,\n",
       "          verbose=0, warm_start=False)"
      ]
     },
     "execution_count": 15,
     "metadata": {},
     "output_type": "execute_result"
    }
   ],
   "source": [
    "## fit logistic regression model\n",
    "logistic = linear_model.LogisticRegression()\n",
    "logistic.fit(X_train, y_train)"
   ]
  },
  {
   "cell_type": "code",
   "execution_count": 16,
   "metadata": {
    "collapsed": false
   },
   "outputs": [
    {
     "name": "stdout",
     "output_type": "stream",
     "text": [
      "Ratio of correctly classified samples for:\n",
      "\tTraining-set:\t0.767421\n",
      "\tTest-set:\t0.748503\n"
     ]
    }
   ],
   "source": [
    "## generate ratio for samples that are correctly classified, both training and testing\n",
    "score_train = logistic.score(X_train, y_train)\n",
    "score_test = logistic.score(X_test, y_test)\n",
    "print('Ratio of correctly classified samples for:\\n\\tTraining-set:\\t%f\\n\\tTest-set:\\t%f'%(score_train, score_test))"
   ]
  },
  {
   "cell_type": "code",
   "execution_count": 17,
   "metadata": {
    "collapsed": true
   },
   "outputs": [],
   "source": [
    "## predicted values\n",
    "ŷ = logistic.predict(X_test)"
   ]
  },
  {
   "cell_type": "code",
   "execution_count": 18,
   "metadata": {
    "collapsed": false
   },
   "outputs": [
    {
     "data": {
      "text/html": [
       "<div>\n",
       "<table border=\"1\" class=\"dataframe\">\n",
       "  <thead>\n",
       "    <tr>\n",
       "      <th></th>\n",
       "      <th></th>\n",
       "      <th colspan=\"2\" halign=\"left\">Actual</th>\n",
       "    </tr>\n",
       "    <tr>\n",
       "      <th></th>\n",
       "      <th></th>\n",
       "      <th>True</th>\n",
       "      <th>False</th>\n",
       "    </tr>\n",
       "  </thead>\n",
       "  <tbody>\n",
       "    <tr>\n",
       "      <th rowspan=\"2\" valign=\"top\">Prediction</th>\n",
       "      <th>True</th>\n",
       "      <td>626</td>\n",
       "      <td>170</td>\n",
       "    </tr>\n",
       "    <tr>\n",
       "      <th>False</th>\n",
       "      <td>208</td>\n",
       "      <td>499</td>\n",
       "    </tr>\n",
       "  </tbody>\n",
       "</table>\n",
       "</div>"
      ],
      "text/plain": [
       "                 Actual      \n",
       "                   True False\n",
       "Prediction True     626   170\n",
       "           False    208   499"
      ]
     },
     "execution_count": 18,
     "metadata": {},
     "output_type": "execute_result"
    }
   ],
   "source": [
    "## generate confusion matrix with total values for TP, TN, FP, FN\n",
    "def binary_confusion_matrix(y,ŷ):\n",
    "    TP = ((y+ŷ)== 2).sum()\n",
    "    TN = ((y+ŷ)== 0).sum()\n",
    "    FP = ((y-ŷ)== -1).sum()\n",
    "    FN = ((y-ŷ)== 1).sum()\n",
    "    return pd.DataFrame( [[TP, FP], [FN, TN]], index=[['Prediction', 'Prediction'],['True', 'False']], columns=[['Actual', 'Actual'],['True', 'False']])\n",
    "\n",
    "cm = binary_confusion_matrix(y_test, ŷ)\n",
    "cm"
   ]
  },
  {
   "cell_type": "code",
   "execution_count": 19,
   "metadata": {
    "collapsed": false
   },
   "outputs": [
    {
     "data": {
      "text/plain": [
       "array([[499, 170],\n",
       "       [208, 626]])"
      ]
     },
     "execution_count": 19,
     "metadata": {},
     "output_type": "execute_result"
    }
   ],
   "source": [
    "from sklearn.metrics import confusion_matrix\n",
    "cm = confusion_matrix(y_test, ŷ)\n",
    "cm"
   ]
  },
  {
   "cell_type": "code",
   "execution_count": 20,
   "metadata": {
    "collapsed": false
   },
   "outputs": [
    {
     "name": "stdout",
     "output_type": "stream",
     "text": [
      "             precision    recall  f1-score   support\n",
      "\n",
      "          0       0.71      0.75      0.73       669\n",
      "          1       0.79      0.75      0.77       834\n",
      "\n",
      "avg / total       0.75      0.75      0.75      1503\n",
      "\n"
     ]
    }
   ],
   "source": [
    "## generate table with rates for precision, recall, F1-score, and support\n",
    "from sklearn.metrics import classification_report\n",
    "print(classification_report(y_test, ŷ))"
   ]
  },
  {
   "cell_type": "code",
   "execution_count": 21,
   "metadata": {
    "collapsed": true
   },
   "outputs": [],
   "source": [
    "## define function to generate visual confusion matrix\n",
    "import itertools\n",
    "np.set_printoptions(precision=2)\n",
    "def plot_confusion_matrix(cm, classes,\n",
    "                          normalize=False,\n",
    "                          title='Confusion matrix',\n",
    "                          cmap=plt.cm.Blues):\n",
    "    \"\"\"\n",
    "    This function prints and plots the confusion matrix.\n",
    "    Normalization can be applied by setting `normalize=True`.\n",
    "    \"\"\"\n",
    "    plt.imshow(cm, interpolation='nearest', cmap=cmap)\n",
    "    plt.title(title)\n",
    "    plt.colorbar()\n",
    "    tick_marks = np.arange(len(classes))\n",
    "    plt.xticks(tick_marks, classes, rotation=45)\n",
    "    plt.yticks(tick_marks, classes)\n",
    "\n",
    "    if normalize:\n",
    "        cm = cm.astype('float') / cm.sum(axis=1)[:, np.newaxis]\n",
    "        print(\"Normalized confusion matrix\")\n",
    "    else:\n",
    "        print('Confusion matrix, without normalization')\n",
    "\n",
    "    print(cm)\n",
    "\n",
    "    thresh = cm.max() / 2.\n",
    "    for i, j in itertools.product(range(cm.shape[0]), range(cm.shape[1])):\n",
    "        plt.text(j, i, cm[i, j],\n",
    "                 horizontalalignment=\"center\",\n",
    "                 color=\"white\" if cm[i, j] > thresh else \"black\")\n",
    "\n",
    "    plt.tight_layout()\n",
    "    plt.ylabel('True label')\n",
    "    plt.xlabel('Predicted label')"
   ]
  },
  {
   "cell_type": "code",
   "execution_count": 22,
   "metadata": {
    "collapsed": false
   },
   "outputs": [
    {
     "name": "stdout",
     "output_type": "stream",
     "text": [
      "Normalized confusion matrix\n",
      "[[ 0.75  0.25]\n",
      " [ 0.25  0.75]]\n"
     ]
    },
    {
     "data": {
      "image/png": "[encoded data removed]",
      "text/plain": [
       "<matplotlib.figure.Figure at 0x7f49636f29e8>"
      ]
     },
     "metadata": {},
     "output_type": "display_data"
    }
   ],
   "source": [
    "## generate/plot normalized confusion matrix with rates for 2 classes: good vs. bad\n",
    "%matplotlib inline\n",
    "\n",
    "fig = plt.figure()\n",
    "plot_confusion_matrix(cm, classes=['Bad', 'Good'], normalize=True, title='Normalized confusion matrix')\n",
    "plt.show()"
   ]
  },
  {
   "cell_type": "code",
   "execution_count": null,
   "metadata": {
    "collapsed": true
   },
   "outputs": [],
   "source": []
  },
  {
   "cell_type": "markdown",
   "metadata": {},
   "source": [
    "## Random Forest"
   ]
  },
  {
   "cell_type": "markdown",
   "metadata": {
    "collapsed": true
   },
   "source": [
    "We built 2 classification models using Random Forest , first having 3 categories for y (Bad,Average,Good) and the second having 2 (Good,Bad) categories, using the same criteria as used above for Logistic Regression:-Taking average of IMDB score and using the average to put them in different categories).Again, using the similar logic, as used in Logistic Regression, divided the data set in 60%-40% ratio and trained & predicted using the rspective datasets.The Classification report and Confusion matrix for both the models shown below along with the code(orderwise)."
   ]
  },
  {
   "cell_type": "markdown",
   "metadata": {},
   "source": [
    "\n",
    "### 1st Random Forest Model : 3 categories for y (IMDB Score)"
   ]
  },
  {
   "cell_type": "code",
   "execution_count": 3,
   "metadata": {
    "collapsed": true
   },
   "outputs": [],
   "source": [
    "df_num=movies.copy()\n",
    "for i in df_num.imdb_score:\n",
    "    if i <= 4:\n",
    "        df_num.imdb_score.replace({i:\"B\"}, inplace=True)\n",
    "    elif 4<i<=6.9:\n",
    "        df_num.imdb_score.replace({i:\"A\"}, inplace=True)\n",
    "    elif i>6.9:\n",
    "        df_num.imdb_score.replace({i:\"G\"}, inplace=True)"
   ]
  },
  {
   "cell_type": "markdown",
   "metadata": {},
   "source": [
    "1.Subsetting x and y and splitting the data for training and testing #                                         \n",
    "2.Creating a classifier to train and then predicting y for test data set"
   ]
  },
  {
   "cell_type": "code",
   "execution_count": 7,
   "metadata": {
    "collapsed": false
   },
   "outputs": [],
   "source": [
    "x = df_num[list(all_features)].as_matrix()\n",
    "y = df_num.imdb_score.as_matrix()\n",
    "from sklearn.model_selection import train_test_split\n",
    "from sklearn.ensemble import RandomForestClassifier\n",
    "x_train, x_test, y_train, y_test = train_test_split(x, y, test_size=.4, random_state=42)\n",
    "rf = RandomForestClassifier(n_estimators=100)\n",
    "rf=rf.fit(x_train, y_train)\n",
    "y_hat=rf.predict(x_test)"
   ]
  },
  {
   "cell_type": "markdown",
   "metadata": {},
   "source": [
    "Classification Report for the 1st(RF) model:"
   ]
  },
  {
   "cell_type": "code",
   "execution_count": 8,
   "metadata": {
    "collapsed": false
   },
   "outputs": [
    {
     "name": "stdout",
     "output_type": "stream",
     "text": [
      "             precision    recall  f1-score   support\n",
      "\n",
      "          A       0.77      0.91      0.84       935\n",
      "          B       0.00      0.00      0.00        46\n",
      "          G       0.79      0.61      0.69       522\n",
      "\n",
      "avg / total       0.76      0.78      0.76      1503\n",
      "\n"
     ]
    },
    {
     "name": "stderr",
     "output_type": "stream",
     "text": [
      "/usr/lib64/python3.4/site-packages/sklearn/metrics/classification.py:1113: UndefinedMetricWarning: Precision and F-score are ill-defined and being set to 0.0 in labels with no predicted samples.\n",
      "  'precision', 'predicted', average, warn_for)\n"
     ]
    }
   ],
   "source": [
    "from sklearn.metrics import classification_report\n",
    "from sklearn.metrics import confusion_matrix\n",
    "cm = confusion_matrix(y_test, y_hat)\n",
    "print(classification_report(y_test, y_hat))"
   ]
  },
  {
   "cell_type": "markdown",
   "metadata": {},
   "source": [
    "Confusion Matrix for the 1st(Random Forest) Model : "
   ]
  },
  {
   "cell_type": "code",
   "execution_count": 9,
   "metadata": {
    "collapsed": false
   },
   "outputs": [
    {
     "name": "stdout",
     "output_type": "stream",
     "text": [
      "Normalized confusion matrix\n",
      "[[ 0.9  0.   0.1]\n",
      " [ 1.   0.   0. ]\n",
      " [ 0.4  0.   0.6]]\n"
     ]
    },
    {
     "data": {
      "image/png": "[encoded data removed]",
      "text/plain": [
       "<matplotlib.figure.Figure at 0x7fc22a93d748>"
      ]
     },
     "metadata": {},
     "output_type": "display_data"
    }
   ],
   "source": [
    "import itertools\n",
    "np.set_printoptions(precision=1)\n",
    "def plot_confusion_matrix(cm, classes,\n",
    "                         normalize=False,\n",
    "                         title='Confusion matrix',\n",
    "                         cmap=plt.cm.Blues):\n",
    "   plt.imshow(cm, interpolation='nearest', cmap=cmap)\n",
    "   plt.title(title)\n",
    "   plt.colorbar()\n",
    "   tick_marks = np.arange(len(classes))\n",
    "   plt.xticks(tick_marks, classes, rotation=45)\n",
    "   plt.yticks(tick_marks, classes)\n",
    "\n",
    "   if normalize:\n",
    "       cm = cm.astype('float') / cm.sum(axis=1)[:, np.newaxis]\n",
    "       print(\"Normalized confusion matrix\")\n",
    "   else:\n",
    "       print('Confusion matrix, without normalization')\n",
    "\n",
    "   print(cm)\n",
    "\n",
    "   thresh = cm.max() / 2.\n",
    "   for i, j in itertools.product(range(cm.shape[0]), range(cm.shape[1])):\n",
    "       plt.text(j, i, cm[i, j],\n",
    "                horizontalalignment=\"center\",\n",
    "                color=\"white\" if cm[i, j] > thresh else \"black\")\n",
    "\n",
    "   plt.tight_layout()\n",
    "   plt.ylabel('True label')\n",
    "   plt.xlabel('Predicted label')\n",
    "\n",
    "\n",
    "%matplotlib inline\n",
    "\n",
    "fig = plt.figure()\n",
    "plot_confusion_matrix(cm, classes=['Average','Bad', 'Good'], normalize=True, title='Normalized confusion matrix')\n",
    "plt.show()\n",
    "#plt.savefig('/home/data/MSA8010/msa8010f16t02/RF_CM_PLT1.png')\n"
   ]
  },
  {
   "cell_type": "markdown",
   "metadata": {},
   "source": [
    "### 2nd Random Forest Model : 2 categories for y (IMDB Score)"
   ]
  },
  {
   "cell_type": "code",
   "execution_count": 14,
   "metadata": {
    "collapsed": false
   },
   "outputs": [],
   "source": [
    "df_num1=movies.copy()\n",
    "for i in df_num1.imdb_score:\n",
    "    if i<6.4:\n",
    "        df_num1.imdb_score.replace({i:\"B\"}, inplace=True)\n",
    "    elif i>=6.4:\n",
    "        df_num1.imdb_score.replace({i:\"G\"}, inplace=True)\n",
    "\n",
    "        \n",
    "x1 = df_num1[list(all_features)].as_matrix()\n",
    "y1 = df_num1.imdb_score.as_matrix()\n",
    "\n",
    "x_train1, x_test1, y_train1, y_test1 = train_test_split(x1, y1, test_size=.4, random_state=42)\n",
    "rf1 = RandomForestClassifier(n_estimators=100)\n",
    "rf1=rf1.fit(x_train1, y_train1)\n"
   ]
  },
  {
   "cell_type": "markdown",
   "metadata": {},
   "source": [
    "Classification Report for the 2nd Model :"
   ]
  },
  {
   "cell_type": "code",
   "execution_count": 15,
   "metadata": {
    "collapsed": false
   },
   "outputs": [
    {
     "name": "stdout",
     "output_type": "stream",
     "text": [
      "             precision    recall  f1-score   support\n",
      "\n",
      "          B       0.74      0.71      0.72       606\n",
      "          G       0.81      0.83      0.82       897\n",
      "\n",
      "avg / total       0.78      0.78      0.78      1503\n",
      "\n"
     ]
    }
   ],
   "source": [
    "y_hat1=rf1.predict(x_test1)\n",
    "cm2 = confusion_matrix(y_test1, y_hat1)\n",
    "print(classification_report(y_test1, y_hat1))\n"
   ]
  },
  {
   "cell_type": "markdown",
   "metadata": {},
   "source": [
    "Confusion Matrix for the 2nd Model :"
   ]
  },
  {
   "cell_type": "code",
   "execution_count": 16,
   "metadata": {
    "collapsed": false
   },
   "outputs": [
    {
     "name": "stdout",
     "output_type": "stream",
     "text": [
      "Normalized confusion matrix\n",
      "[[ 0.7  0.3]\n",
      " [ 0.2  0.8]]\n"
     ]
    },
    {
     "data": {
      "image/png": "[encoded data removed]",
      "text/plain": [
       "<matplotlib.figure.Figure at 0x7fc228799240>"
      ]
     },
     "metadata": {},
     "output_type": "display_data"
    }
   ],
   "source": [
    "fig = plt.figure()\n",
    "plot_confusion_matrix(cm2, classes=['Bad', 'Good'], normalize=True, title='Normalized confusion matrix')\n",
    "plt.show()\n"
   ]
  },
  {
   "cell_type": "markdown",
   "metadata": {},
   "source": [
    "## Conclusion"
   ]
  },
  {
   "cell_type": "code",
   "execution_count": null,
   "metadata": {
    "collapsed": true
   },
   "outputs": [],
   "source": []
  }
 ],
 "metadata": {
  "anaconda-cloud": {},
  "kernelspec": {
   "display_name": "Python 3",
   "language": "python",
   "name": "python3"
  },
  "language_info": {
   "codemirror_mode": {
    "name": "ipython",
    "version": 3
   },
   "file_extension": ".py",
   "mimetype": "text/x-python",
   "name": "python",
   "nbconvert_exporter": "python",
   "pygments_lexer": "ipython3",
   "version": "3.4.3"
  }
 },
 "nbformat": 4,
 "nbformat_minor": 0
}
