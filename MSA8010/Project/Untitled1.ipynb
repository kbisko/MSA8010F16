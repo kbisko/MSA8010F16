{
 "cells": [
  {
   "cell_type": "code",
   "execution_count": 1,
   "metadata": {
    "collapsed": true
   },
   "outputs": [],
   "source": [
    "import pandas as pd\n",
    "import numpy as np\n",
    "import math as math\n",
    "movie=pd.read_table('/home/data/MSA8010/msa8010f16t02/movies.csv', sep=',')"
   ]
  },
  {
   "cell_type": "code",
   "execution_count": 17,
   "metadata": {
    "collapsed": false
   },
   "outputs": [
    {
     "data": {
      "text/plain": [
       "{'actor_1_facebook_likes',\n",
       " 'actor_1_name',\n",
       " 'actor_2_facebook_likes',\n",
       " 'actor_2_name',\n",
       " 'actor_3_facebook_likes',\n",
       " 'actor_3_name',\n",
       " 'aspect_ratio',\n",
       " 'cast_total_facebook_likes',\n",
       " 'color',\n",
       " 'content_rating',\n",
       " 'country',\n",
       " 'director_facebook_likes',\n",
       " 'director_name',\n",
       " 'duration',\n",
       " 'facenumber_in_poster',\n",
       " 'genres',\n",
       " 'imdb_score',\n",
       " 'language',\n",
       " 'movie_facebook_likes',\n",
       " 'movie_imdb_link',\n",
       " 'movie_title',\n",
       " 'num_critic_for_reviews',\n",
       " 'num_user_for_reviews',\n",
       " 'num_voted_users',\n",
       " 'title_year'}"
      ]
     },
     "execution_count": 17,
     "metadata": {},
     "output_type": "execute_result"
    }
   ],
   "source": [
    "all_features = set(movie.columns)-set(['gross'])-set(['budget'])-set(['plot_keywords'])\n",
    "all_features"
   ]
  },
  {
   "cell_type": "code",
   "execution_count": 30,
   "metadata": {
    "collapsed": false
   },
   "outputs": [],
   "source": [
    "titles=movie[['movie_title','country']].drop_duplicates()\n",
    "\n",
    "\n",
    "movie2=pd.merge(movie, titles, on=['movie_title','country'])\n",
    "movie3=movie2.drop(['gross','plot_keywords','budget'],1)\n",
    "\n",
    "movie3.to_csv('movie_v2.csv', sep=',')"
   ]
  }
 ],
 "metadata": {
  "kernelspec": {
   "display_name": "Python 3",
   "language": "python",
   "name": "python3"
  },
  "language_info": {
   "codemirror_mode": {
    "name": "ipython",
    "version": 3
   },
   "file_extension": ".py",
   "mimetype": "text/x-python",
   "name": "python",
   "nbconvert_exporter": "python",
   "pygments_lexer": "ipython3",
   "version": "3.4.3"
  }
 },
 "nbformat": 4,
 "nbformat_minor": 0
}
