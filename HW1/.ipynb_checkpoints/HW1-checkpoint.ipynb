{
 "cells": [
  {
   "cell_type": "markdown",
   "metadata": {},
   "source": [
    "# Homework 1: Word Frequencies\n",
    "\n",
    "## Challenge\n",
    "Can we identify different types of text documents based on the frequency of their words? Can we identify different authors, styles, or disciplines like medical versus information technology? The assignment is to compute word frequencies for different types of documents, and to develop patterns for document classification.\n",
    "\n",
    "## Tasks\n",
    "1. Write Python code to load different text documents and compute word frequencies. The most frequent words should be at the beginning of the list.\n",
    "2. Identify a small (about 5 to 10) words that could represent a particular type of document.\n",
    "3. Show how different types have different word lists (\"signatures\").\n",
    "4. Discuss results and the feasibilty of this method.\n",
    "\n",
    "## Deliverable\n",
    "Use this notebook to implement your assignment. Please, observe the following:\n",
    "1. Your notebook should have the completly executed code and results.\n",
    "2. Please, organize your notebook to tell the story. Remove unnecessary clutter, test code, and anything that does not belong to the story.\n",
    "3. Save your notebook in a directory named `HW1` in `MSA8010F16` in your *home* directory on the Hadoop Cluster. The path should be `~/MSA8010F16/HW1/HW1.ipynb`.\n",
    "4. Also save the notebook in HTML as `~/MSA8010F16/HW1/HW1.html`\n",
    "5. All file names are *case sensitive*!"
   ]
  },
  {
   "cell_type": "markdown",
   "metadata": {},
   "source": [
    "uses a library or sort"
   ]
  },
  {
   "cell_type": "markdown",
   "metadata": {},
   "source": [
    "## Work\n",
    "I would like to try to determine an author by using just word counts from their books. I have selected Jane Austen. I will load one of her books, Sense & Sensibility, and create the necessary functions to read, manipulate, and output the top 20 words for the document."
   ]
  },
  {
   "cell_type": "code",
   "execution_count": 188,
   "metadata": {
    "collapsed": false
   },
   "outputs": [],
   "source": [
    "##Step 1: Load the data\n",
    "from urllib.request import urlopen\n",
    "import string\n",
    "with urlopen('http://www.textfiles.com/etext/FICTION/austen-sense-758.txt') as src:\n",
    "    sense = []\n",
    "    txt = src.readlines()\n",
    "    for t in txt[244:]:\n",
    "        sense = sense + (t.decode().replace('\\n','').casefold().split(' '))            "
   ]
  },
  {
   "cell_type": "code",
   "execution_count": 189,
   "metadata": {
    "collapsed": false
   },
   "outputs": [],
   "source": [
    "##Step 2: remove all the punctuation \n",
    "def remove_punct(doc):\n",
    "    import re\n",
    "    from string import punctuation\n",
    "    r = re.compile(r'[{}]'.format(punctuation))\n",
    "    output = []\n",
    "    for x in doc:\n",
    "        output.append(r.sub('',x))\n",
    "    return output\n",
    "\n",
    "sense2 = remove_punct(sense)"
   ]
  },
  {
   "cell_type": "code",
   "execution_count": 190,
   "metadata": {
    "collapsed": false
   },
   "outputs": [],
   "source": [
    "##Step 3: Remove empty entries\n",
    "sense3 = [w for w in sense2 if w]"
   ]
  },
  {
   "cell_type": "code",
   "execution_count": 191,
   "metadata": {
    "collapsed": false
   },
   "outputs": [],
   "source": [
    "##Step 4: remove stop words, most common words in the english language, in order to get words that matter. \n",
    "## i used a list from the below website\n",
    "def remove_stops(doc):\n",
    "    with urlopen('http://www.textfixer.com/resources/common-english-words.txt') as stop_words_src:\n",
    "        stop_words = []\n",
    "        sw = stop_words_src.readlines()\n",
    "        for x in sw:\n",
    "            stop_words = stop_words + (x.decode().split(','))   \n",
    "    return [w for w in doc if w not in stop_words]\n",
    "\n",
    "sense4 = remove_stops(sense3)"
   ]
  },
  {
   "cell_type": "code",
   "execution_count": 192,
   "metadata": {
    "collapsed": false
   },
   "outputs": [
    {
     "name": "stdout",
     "output_type": "stream",
     "text": [
      "[('elinor', 618), ('mrs', 526), ('very', 497), ('marianne', 490), ('more', 404), ('such', 354), ('one', 317), ('much', 287), ('herself', 249), ('time', 237), ('now', 232), ('know', 228), ('dashwood', 224), ('sister', 214), ('though', 213), ('edward', 210), ('well', 209), ('miss', 209), ('think', 205), ('jennings', 203)]\n"
     ]
    }
   ],
   "source": [
    "##Step 5: Find the top 20 meaningful words in the document\n",
    "def find_top20_words(doc):\n",
    "    from collections import Counter\n",
    "    freq = Counter(doc)\n",
    "    top20 = freq.most_common(20)    \n",
    "    return (top20)    \n",
    "\n",
    "print (find_top20_words(sense4))"
   ]
  },
  {
   "cell_type": "markdown",
   "metadata": {},
   "source": [
    "Now with all of the necessary functions developed I will load two more Jane Austen books, Pride & Predujice and Emma. From these three books I will try to find a theme within the top words. "
   ]
  },
  {
   "cell_type": "code",
   "execution_count": 193,
   "metadata": {
    "collapsed": false
   },
   "outputs": [
    {
     "name": "stdout",
     "output_type": "stream",
     "text": [
      "[('mr', 781), ('elizabeth', 596), ('very', 487), ('such', 389), ('darcy', 374), ('mrs', 343), ('much', 328), ('more', 322), ('bennet', 295), ('one', 295), ('miss', 283), ('jane', 264), ('bingley', 258), ('know', 237), ('before', 227), ('herself', 227), ('though', 226), ('never', 221), ('well', 219), ('soon', 217)]\n"
     ]
    }
   ],
   "source": [
    "##Austen - Pride & Predujice\n",
    "from urllib.request import urlopen\n",
    "import string\n",
    "with urlopen('http://www.textfiles.com/etext/FICTION/austen-pride-757.txt') as src:\n",
    "    pride = []\n",
    "    txt = src.readlines()\n",
    "    for t in txt[49:14502]:\n",
    "        pride = pride + (t.decode().replace('\\n','').replace('\\r','').casefold().split(' '))    \n",
    "\n",
    "pride2 = remove_punct(pride)\n",
    "pride3 = [w for w in pride2 if w]\n",
    "pride4 = remove_stops(pride3)\n",
    "pride5 = find_top20_words(pride4)\n",
    "print (pride5)"
   ]
  },
  {
   "cell_type": "code",
   "execution_count": 194,
   "metadata": {
    "collapsed": false
   },
   "outputs": [
    {
     "name": "stdout",
     "output_type": "stream",
     "text": [
      "[('very', 1187), ('mr', 1124), ('emma', 751), ('mrs', 687), ('miss', 587), ('much', 474), ('such', 471), ('more', 463), ('one', 428), ('harriet', 391), ('thing', 385), ('think', 384), ('weston', 382), ('little', 361), ('being', 358), ('well', 353), ('never', 346), ('knightley', 337), ('know', 322), ('elton', 317)]\n"
     ]
    }
   ],
   "source": [
    "##Austen - Emma\n",
    "from urllib.request import urlopen\n",
    "import string\n",
    "with urlopen('http://www.textfiles.com/etext/FICTION/austen-emma-754.txt') as src:\n",
    "    emma = []\n",
    "    txt = src.readlines()\n",
    "    for t in txt:\n",
    "        emma = emma + (t.decode().replace('\\n','').replace('\\r','').casefold().split(' '))    \n",
    "\n",
    "emma2 = remove_punct(emma)\n",
    "emma3 = [w for w in emma2 if w]\n",
    "emma4 = remove_stops(emma3)\n",
    "emma5 = find_top20_words(emma4)\n",
    "print (emma5)"
   ]
  },
  {
   "cell_type": "markdown",
   "metadata": {},
   "source": [
    "After removing character names, there are seven common words between the three books. I will note these (know, more, mrs/miss, much, such, very, and well) and now test against other books; two written by women and one a man, during the same time period."
   ]
  },
  {
   "cell_type": "code",
   "execution_count": 195,
   "metadata": {
    "collapsed": false
   },
   "outputs": [
    {
     "name": "stdout",
     "output_type": "stream",
     "text": [
      "[('jo', 1254), ('one', 866), ('little', 728), ('up', 647), ('meg', 638), ('amy', 573), ('laurie', 552), ('dont', 551), ('very', 494), ('out', 482), ('beth', 418), ('good', 407), ('now', 399), ('go', 393), ('im', 390), ('well', 376), ('never', 375), ('much', 371), ('old', 366), ('see', 361)]\n"
     ]
    }
   ],
   "source": [
    "## Louisa May Alcott - Little Women\n",
    "from urllib.request import urlopen\n",
    "import string\n",
    "with urlopen('http://www.textfiles.com/etext/FICTION/li_women') as src:\n",
    "    little = []\n",
    "    txt = src.readlines()\n",
    "    for t in txt:\n",
    "        little = little + (t.decode().replace('\\n','').replace('\\r','').casefold().split(' '))    \n",
    "\n",
    "little2 = remove_punct(little)\n",
    "little3 = [w for w in little2 if w]\n",
    "little4 = remove_stops(little3)\n",
    "little5 = find_top20_words(little4)\n",
    "print (little5)"
   ]
  },
  {
   "cell_type": "code",
   "execution_count": 196,
   "metadata": {
    "collapsed": false
   },
   "outputs": [
    {
     "name": "stdout",
     "output_type": "stream",
     "text": [
      "[('now', 666), ('one', 577), ('mr', 541), ('out', 402), ('up', 384), ('very', 376), ('more', 361), ('little', 342), ('jane', 333), ('well', 325), ('rochester', 317), ('sir', 314), ('miss', 308), ('never', 292), ('before', 284), ('see', 274), ('thought', 256), ('such', 255), ('over', 254), ('mrs', 250)]\n"
     ]
    }
   ],
   "source": [
    "##Bronte - Jane Eyre\n",
    "from urllib.request import urlopen\n",
    "import string\n",
    "with urlopen('http://www.textfiles.com/etext/FICTION/bronte-jane-178.txt') as src:\n",
    "    jane = []\n",
    "    txt = src.readlines()\n",
    "    for t in txt[120:]:\n",
    "        jane = jane + (t.decode().replace('\\n','').replace('\\r','').casefold().split(' '))    \n",
    "\n",
    "jane2 = remove_punct(jane)\n",
    "jane3 = [w for w in jane2 if w]\n",
    "jane4 = remove_stops(jane3)\n",
    "jane5 = find_top20_words(jane4)\n",
    "print (jane5)"
   ]
  },
  {
   "cell_type": "code",
   "execution_count": 197,
   "metadata": {
    "collapsed": false
   },
   "outputs": [
    {
     "name": "stdout",
     "output_type": "stream",
     "text": [
      "[('levin', 1524), ('up', 1287), ('one', 1201), ('out', 1004), ('now', 896), ('vronsky', 779), ('more', 747), ('anna', 742), ('well', 696), ('come', 682), ('go', 678), ('very', 673), ('know', 669), ('went', 638), ('alexei', 625), ('himself', 615), ('see', 613), ('kitty', 600), ('over', 581), ('time', 554)]\n"
     ]
    }
   ],
   "source": [
    "##Tolstoy - Anna Karenina\n",
    "from urllib.request import urlopen\n",
    "import string\n",
    "with urlopen('http://www.textfiles.com/etext/FICTION/anna_karenina') as src:\n",
    "    anna = []\n",
    "    txt = src.readlines()\n",
    "    for t in txt:\n",
    "        anna = anna + (t.decode().replace('\\n','').replace('\\r','').casefold().split(' '))    \n",
    "\n",
    "anna2 = remove_punct(anna)\n",
    "anna3 = [w for w in anna2 if w]\n",
    "anna4 = remove_stops(anna3)\n",
    "anna5 = find_top20_words(anna4)\n",
    "print (anna5)"
   ]
  },
  {
   "cell_type": "markdown",
   "metadata": {},
   "source": [
    "## Conclusion\n",
    "\n",
    "Of the seven words found within the Jane Austen books, Little Women has three, Jane Eyre five, and Anna Karenina has four. Two of the words are present in all three books, very and well. If we remove these we have five words that do not fully overlap all three of the test texts. This could be significant but more testing would be necessary to confirm. I think a better way would be to add in some type of correlation test between words, something like groups of words together or without other words. This could help account for writing style which is not detectable when just looking at words. \n",
    "\n",
    "From doing just the word reference, there does not seeem to be much of a difference between men and women writers of the 1800s. Although a small sample size was used so I cannot say that with certainty. Again some type of word assocation algorithm along with additional samples could help determine if this is the acutal case. "
   ]
  }
 ],
 "metadata": {
  "kernelspec": {
   "display_name": "Python 3",
   "language": "python",
   "name": "python3"
  },
  "language_info": {
   "codemirror_mode": {
    "name": "ipython",
    "version": 3
   },
   "file_extension": ".py",
   "mimetype": "text/x-python",
   "name": "python",
   "nbconvert_exporter": "python",
   "pygments_lexer": "ipython3",
   "version": "3.4.3"
  }
 },
 "nbformat": 4,
 "nbformat_minor": 0
}
